{
 "cells": [
  {
   "cell_type": "code",
   "execution_count": 8,
   "id": "3ad00105-688b-4ce0-b88d-4b7528709337",
   "metadata": {},
   "outputs": [
    {
     "name": "stdout",
     "output_type": "stream",
     "text": [
      "537\n"
     ]
    }
   ],
   "source": [
    "#Magic Number\n",
    "#This program is complex math to create a magic number which is 537\n",
    "num1 = 10 ** 3\n",
    "num2 = num1 % 75\n",
    "num3 = num2 + (868-500)\n",
    "num4 = num3 + (10 ** 2)\n",
    "num5 = num4 - 56\n",
    "num6 = num5 + (1000 // 10)\n",
    "print(num6)"
   ]
  },
  {
   "cell_type": "code",
   "execution_count": null,
   "id": "040029c0-b94a-4ba8-8050-ddb06f63a2c1",
   "metadata": {},
   "outputs": [],
   "source": []
  }
 ],
 "metadata": {
  "kernelspec": {
   "display_name": "Python 3 (ipykernel)",
   "language": "python",
   "name": "python3"
  },
  "language_info": {
   "codemirror_mode": {
    "name": "ipython",
    "version": 3
   },
   "file_extension": ".py",
   "mimetype": "text/x-python",
   "name": "python",
   "nbconvert_exporter": "python",
   "pygments_lexer": "ipython3",
   "version": "3.9.12"
  }
 },
 "nbformat": 4,
 "nbformat_minor": 5
}
